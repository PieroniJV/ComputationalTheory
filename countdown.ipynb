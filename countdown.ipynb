{
 "cells": [
  {
   "cell_type": "markdown",
   "metadata": {},
   "source": [
    "# Computational Theory - Countdown Game\n",
    "\n",
    "Author: Jose Santos - G00390007\n",
    "---"
   ]
  },
  {
   "cell_type": "markdown",
   "metadata": {},
   "source": [
    "## Introduction\n",
    "\n",
    "### Overview of the Notebook: \n",
    "Briefly introduce the scope and objectives of the notebook.\n",
    "### Introduction to Computational Theory: \n",
    "Define computational theory and its relevance in modern computing.\n",
    "---"
   ]
  },
  {
   "cell_type": "markdown",
   "metadata": {},
   "source": [
    "## Part I: Theory\n",
    "### The Countdown Game\n",
    "#### Description of the Game: \n",
    "\n",
    "Countdown is a British game show involving word and mathematical tasks that began airing in November 1982. [1](#gameshow). \n",
    "\n",
    "In the numbers version of this game, contestants are given *six random numbers* from the list containing *two copies of the integers from 1 to 10 inclusive* and *one copy of each of the numbers 25, 50, 75, and 100.* A *random integer is generated between 101 and 999 inclusive.* The contestants are given *30 seconds* to reach the target number using as many of the six numbers as they need using *addition, subtraction, multiplication, and division.*\n",
    "\n",
    "There are a few restrictions to the game, such as:\n",
    "- **Each of the six numbers can be used only once** (Two of the same number might be in the list of six, in which case each copy can be used once).\n",
    "- **The operations can be used any number of times**, however, division is only permitted where it results in a whole number - no fractions are allowed at any stage of the calculation. Likewise, subtraction can only be used when it results in a positive number.\n",
    "\n",
    "#### Game Examples: \n",
    "Provide a few examples of the game to illustrate how it is played.\n",
    "### Computational Complexity\n",
    "#### Defining Computational Complexity: \n",
    "Introduce the concept of computational complexity.\n",
    "#### Complexity of the Countdown Game:\n",
    "Analyze the computational complexity of solving the Countdown numbers game. Discuss factors like the size of the number set and the operations allowed.\n",
    "### Approaches to Solving the Game\n",
    "#### Algorithmic Strategies: \n",
    "Discuss various algorithmic strategies that can be applied to solve the game, such as brute force, dynamic programming, and heuristic methods.\n",
    "#### Optimal vs. Practical Solutions: \n",
    "Explore the trade-offs between finding the optimal solution and a practically sufficient solution within the time constraints.\n",
    "### Research Findings\n",
    "#### Literature Review: \n",
    "Summarize research findings related to solving number games like Countdown and their computational complexities.\n",
    "#### Relevance to Broader Computational Problems: \n",
    "Discuss how the strategies for solving Countdown can be applied to other computational problems."
   ]
  },
  {
   "cell_type": "markdown",
   "metadata": {},
   "source": [
    "## Part II: Implementation\n",
    "### The solve_numbers Function\n",
    "#### Function Overview: \n",
    "Describe the purpose and functionality of the solve_numbers function.\n",
    "#### Algorithm Explanation: \n",
    "Detail the algorithm used in the function, including its computational complexity.\n",
    "### Implementation Details\n",
    "#### Code Walkthrough: \n",
    "Present the Python code for the solve_numbers function, with comments explaining key sections.\n",
    "#### Handling Special Cases: \n",
    "Explain how the function deals with special cases, such as no possible solution or a solution within a ±5 range of the target.\n",
    "### Using the Function\n",
    "#### Function Usage: \n",
    "Show how to use the solve_numbers function with different sets of numbers and target values.\n",
    "#### Sample Outputs: \n",
    "Display sample outputs of the function, demonstrating its effectiveness and limitations.\n",
    "### Functional Programming Aspects\n",
    "#### Functional Programming in Python: \n",
    "Introduce the concept of functional programming and its benefits.\n",
    "#### Functional Elements in solve_numbers: \n",
    "Highlight and explain any functional programming aspects used in the solve_numbers function, such as lambda functions, map/filter/reduce, etc."
   ]
  },
  {
   "cell_type": "markdown",
   "metadata": {},
   "source": [
    "## Conclusion\n",
    "### Summary of Learnings: \n",
    "Recap the key points covered in the notebook.\n",
    "### Potential Extensions: \n",
    "Suggest further areas of study or additional features that could be implemented."
   ]
  },
  {
   "cell_type": "markdown",
   "metadata": {},
   "source": [
    "## References\n",
    "### Bibliography: \n",
    "List all the sources and research papers referenced in the notebook.\n",
    "\n",
    "[1]<a name=\"gameshow\"/>: [Game Explanation](https://en.wikipedia.org/wiki/Countdown_(game_show))"
   ]
  },
  {
   "cell_type": "markdown",
   "metadata": {},
   "source": []
  },
  {
   "cell_type": "markdown",
   "metadata": {},
   "source": [
    "- Goals:\n",
    "    - Identify difficult computational problems in everyday computing.\n",
    "    - Define the common models of computation.\n",
    "    - Design computer programs using a variety of computational paradigms.\n",
    "    - Analyze the complexity of an algorithm.\n",
    "\n",
    "- The project:\n",
    "    - Analyse and solve the numbers round of the TV program Countdown.\n",
    "\n",
    "- The countdown game:\n",
    "    - The operations can be used any number of times. However, division is only permitted where it results in a whole number - no fractions are allowed at any stage of the calculation. Likewise, subtraction can only be used when it results in a positive number.\n",
    "\n",
    "- Algorithm:\n",
    "    - a Python function called solve_numbers that takes any such list of six numbers and a target number, and returns at least one solution if it exists. In some cases, a solution might not exist, in which case the function should return None or your function can return a calculation that is within 5 on either side of the target number - the closer, the better.\n",
    "\n",
    "- What to do:\n",
    "    - Theory:\n",
    "        - Explain the countdown game.\n",
    "        - Analyze the computational complexity of the game.\n",
    "        - Explain the approach to solving the game.\n",
    "        - Finds of research on the problem.\n",
    "    - Implementation:\n",
    "        - `solve_numbers` function.\n",
    "        - Using the function\n",
    "        - Explanation of any functional programming aspects in the solution.\n",
    "\n",
    "- Resources:\n",
    "    - gitignore: https://www.toptal.com/developers/gitignore"
   ]
  }
 ],
 "metadata": {
  "language_info": {
   "name": "python"
  }
 },
 "nbformat": 4,
 "nbformat_minor": 2
}
